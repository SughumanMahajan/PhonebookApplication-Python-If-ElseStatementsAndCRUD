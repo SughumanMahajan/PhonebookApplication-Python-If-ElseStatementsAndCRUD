{
 "cells": [
  {
   "cell_type": "code",
   "execution_count": null,
   "id": "c35c88c5-d82c-4acf-985d-5e61a814a62f",
   "metadata": {},
   "outputs": [
    {
     "name": "stdout",
     "output_type": "stream",
     "text": [
      "\n",
      "Phonebook Menu:\n",
      "1. Add a New Contact\n",
      "2. Search for a Contact\n",
      "3. Delete a Contact\n",
      "4. List All Contacts\n",
      "5. Exit\n"
     ]
    },
    {
     "name": "stdin",
     "output_type": "stream",
     "text": [
      "Enter your choice:  4\n"
     ]
    },
    {
     "name": "stdout",
     "output_type": "stream",
     "text": [
      "No contacts found.\n",
      "\n",
      "Phonebook Menu:\n",
      "1. Add a New Contact\n",
      "2. Search for a Contact\n",
      "3. Delete a Contact\n",
      "4. List All Contacts\n",
      "5. Exit\n"
     ]
    }
   ],
   "source": [
    "# Phonebook Application\n",
    "\n",
    "# Initialize the Phonebook\n",
    "# Created an Empty Dictionary: At the start of the program, define an empty dictionary to store the contacts.\n",
    "phonebook = {}\n",
    "\n",
    "# User Interface\n",
    "# Created a Menu Loop: Use a while loop to continuously display options to the user until they choose to exit.\n",
    "if choice == '1':\n",
    "        # Code to add a new contact\n",
    "    elif choice == '2':\n",
    "        # Code to search for a contact\n",
    "    elif choice == '3':\n",
    "        # Code to delete a contact\n",
    "    elif choice == '4':\n",
    "        # Code to list all contacts\n",
    "    elif choice == '5':\n",
    "        print(\"Exiting the phonebook.\")\n",
    "        break\n",
    "    else:\n",
    "        print(\"Invalid choice! Please try again.\")\n",
    "\n",
    "# Implementing CRUD Operations \n",
    "\n",
    "# Add a New Contact:\n",
    "    if choice == '1':\n",
    "        name = input(\"Enter the contact name: \")\n",
    "        if name in phonebook:\n",
    "            print(f\"Contact '{name}' already exists.\")\n",
    "        else:\n",
    "            number = input(\"Enter the phone number: \")\n",
    "            phonebook[name] = number\n",
    "            print(f\"Contact '{name}' added successfully.\")\n",
    "            \n",
    "# Search for a Contact:\n",
    "    elif choice == '2':\n",
    "        name = input(\"Enter the contact name to search: \")\n",
    "        if name in phonebook:\n",
    "            print(f\"The number for '{name}' is {phonebook[name]}.\")\n",
    "        else:\n",
    "            print(f\"Contact '{name}' not found.\")\n",
    "            \n",
    "# Delete a Contact:\n",
    "    elif choice == '3':\n",
    "        name = input(\"Enter the contact name to delete: \")\n",
    "        if name in phonebook:\n",
    "            del phonebook[name]\n",
    "            print(f\"Contact '{name}' deleted successfully.\")\n",
    "        else:\n",
    "            print(f\"Contact '{name}' not found.\")\n",
    "            \n",
    "# List All Contacts:    \n",
    "    elif choice == '4':\n",
    "        if phonebook:\n",
    "            print(\"\\nContacts List:\")\n",
    "            for name, number in phonebook.items():\n",
    "                print(f\"Name: {name}, Phone Number: {number}\")\n",
    "        else:\n",
    "            print(\"No contacts found.\")\n",
    "    \n",
    "    elif choice == '5':\n",
    "        print(\"Exiting the phonebook.\")\n",
    "        break\n",
    "    \n",
    "    else:\n",
    "        print(\"Invalid choice! Please try again.\")"
   ]
  },
  {
   "cell_type": "code",
   "execution_count": null,
   "id": "df7da458-7ec4-49cd-80b6-13b577b006ba",
   "metadata": {},
   "outputs": [],
   "source": []
  }
 ],
 "metadata": {
  "kernelspec": {
   "display_name": "Python 3 (ipykernel)",
   "language": "python",
   "name": "python3"
  },
  "language_info": {
   "codemirror_mode": {
    "name": "ipython",
    "version": 3
   },
   "file_extension": ".py",
   "mimetype": "text/x-python",
   "name": "python",
   "nbconvert_exporter": "python",
   "pygments_lexer": "ipython3",
   "version": "3.11.7"
  }
 },
 "nbformat": 4,
 "nbformat_minor": 5
}
